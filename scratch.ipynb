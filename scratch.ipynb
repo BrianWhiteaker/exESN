{
 "cells": [
  {
   "cell_type": "code",
   "execution_count": 1,
   "id": "f3b93d09",
   "metadata": {},
   "outputs": [],
   "source": [
    "import torch\n",
    "import numpy as np"
   ]
  },
  {
   "cell_type": "code",
   "execution_count": 5,
   "id": "163d23b3",
   "metadata": {},
   "outputs": [],
   "source": [
    "def initRes(N,r,rho):\n",
    "        A = torch.mul(torch.sub(torch.rand((N,N)),.5),r)\n",
    "        W = (A + torch.transpose(A,0,1))-torch.diag(torch.diagonal(A))\n",
    "        eigmax = torch.max(torch.abs(torch.linalg.eigvals(W)))\n",
    "        Wszd = torch.mul(torch.div(W,eigmax),rho)\n",
    "        D,Q = torch.linalg.eig(Wszd)\n",
    "        return torch.real(Q), torch.real(D), torch.real(torch.transpose(Q,0,1))"
   ]
  },
  {
   "cell_type": "code",
   "execution_count": 39,
   "id": "8705f9fa",
   "metadata": {},
   "outputs": [],
   "source": [
    "Q,D,Qt = initRes(2,1,.9)\n",
    "L = Q.detach().cpu().numpy()\n",
    "Dg = np.diag(D.detach().cpu().numpy())\n",
    "Lt = L.T"
   ]
  },
  {
   "cell_type": "code",
   "execution_count": 40,
   "id": "94938f83",
   "metadata": {},
   "outputs": [
    {
     "data": {
      "text/plain": [
       "1.0"
      ]
     },
     "execution_count": 40,
     "metadata": {},
     "output_type": "execute_result"
    }
   ],
   "source": [
    "np.linalg.norm(L[0,:])"
   ]
  },
  {
   "cell_type": "code",
   "execution_count": null,
   "id": "40d379aa",
   "metadata": {},
   "outputs": [],
   "source": []
  }
 ],
 "metadata": {
  "kernelspec": {
   "display_name": "Python 3 (ipykernel)",
   "language": "python",
   "name": "python3"
  },
  "language_info": {
   "codemirror_mode": {
    "name": "ipython",
    "version": 3
   },
   "file_extension": ".py",
   "mimetype": "text/x-python",
   "name": "python",
   "nbconvert_exporter": "python",
   "pygments_lexer": "ipython3",
   "version": "3.8.12"
  }
 },
 "nbformat": 4,
 "nbformat_minor": 5
}
